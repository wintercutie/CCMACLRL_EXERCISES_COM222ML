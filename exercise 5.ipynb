{
  "cells": [
    {
      "cell_type": "markdown",
      "source": [
        "# Exercise 5"
      ],
      "metadata": {
        "id": "DzE0a2wse5_X"
      }
    },
    {
      "cell_type": "code",
      "execution_count": 51,
      "metadata": {
        "id": "1jGZ4ic7DRL-"
      },
      "outputs": [],
      "source": [
        "import pandas as pd\n",
        "import matplotlib.pyplot as plt\n",
        "import seaborn as sns\n",
        "from sklearn.linear_model import LinearRegression\n",
        "from scipy.stats import pearsonr\n",
        "import statsmodels.api as sm"
      ]
    },
    {
      "cell_type": "code",
      "execution_count": 52,
      "metadata": {
        "id": "ZWwABN_vDXoV"
      },
      "outputs": [],
      "source": [
        "df = pd.read_excel('traveldata.xlsx')"
      ]
    },
    {
      "cell_type": "code",
      "execution_count": 53,
      "metadata": {
        "id": "6uh5EWIaDaum",
        "colab": {
          "base_uri": "https://localhost:8080/",
          "height": 363
        },
        "outputId": "262521d8-f84e-4238-d24e-da245e2aa4c0"
      },
      "outputs": [
        {
          "output_type": "execute_result",
          "data": {
            "text/plain": [
              "   Miles Traveled  Number of Deliveries  Gas Price  Travel Time\n",
              "0              89                     4       3.84          7.0\n",
              "1              66                     1       3.19          5.4\n",
              "2              78                     3       3.78          6.6\n",
              "3             111                     6       3.89          7.4\n",
              "4              44                     1       3.57          4.8\n",
              "5              77                     3       3.57          6.4\n",
              "6              80                     3       3.03          7.0\n",
              "7              66                     2       3.51          5.6\n",
              "8             109                     5       3.54          7.3\n",
              "9              76                     3       3.25          6.4"
            ],
            "text/html": [
              "\n",
              "  <div id=\"df-2c60ec90-a54e-446d-bf8d-b45c72222172\" class=\"colab-df-container\">\n",
              "    <div>\n",
              "<style scoped>\n",
              "    .dataframe tbody tr th:only-of-type {\n",
              "        vertical-align: middle;\n",
              "    }\n",
              "\n",
              "    .dataframe tbody tr th {\n",
              "        vertical-align: top;\n",
              "    }\n",
              "\n",
              "    .dataframe thead th {\n",
              "        text-align: right;\n",
              "    }\n",
              "</style>\n",
              "<table border=\"1\" class=\"dataframe\">\n",
              "  <thead>\n",
              "    <tr style=\"text-align: right;\">\n",
              "      <th></th>\n",
              "      <th>Miles Traveled</th>\n",
              "      <th>Number of Deliveries</th>\n",
              "      <th>Gas Price</th>\n",
              "      <th>Travel Time</th>\n",
              "    </tr>\n",
              "  </thead>\n",
              "  <tbody>\n",
              "    <tr>\n",
              "      <th>0</th>\n",
              "      <td>89</td>\n",
              "      <td>4</td>\n",
              "      <td>3.84</td>\n",
              "      <td>7.0</td>\n",
              "    </tr>\n",
              "    <tr>\n",
              "      <th>1</th>\n",
              "      <td>66</td>\n",
              "      <td>1</td>\n",
              "      <td>3.19</td>\n",
              "      <td>5.4</td>\n",
              "    </tr>\n",
              "    <tr>\n",
              "      <th>2</th>\n",
              "      <td>78</td>\n",
              "      <td>3</td>\n",
              "      <td>3.78</td>\n",
              "      <td>6.6</td>\n",
              "    </tr>\n",
              "    <tr>\n",
              "      <th>3</th>\n",
              "      <td>111</td>\n",
              "      <td>6</td>\n",
              "      <td>3.89</td>\n",
              "      <td>7.4</td>\n",
              "    </tr>\n",
              "    <tr>\n",
              "      <th>4</th>\n",
              "      <td>44</td>\n",
              "      <td>1</td>\n",
              "      <td>3.57</td>\n",
              "      <td>4.8</td>\n",
              "    </tr>\n",
              "    <tr>\n",
              "      <th>5</th>\n",
              "      <td>77</td>\n",
              "      <td>3</td>\n",
              "      <td>3.57</td>\n",
              "      <td>6.4</td>\n",
              "    </tr>\n",
              "    <tr>\n",
              "      <th>6</th>\n",
              "      <td>80</td>\n",
              "      <td>3</td>\n",
              "      <td>3.03</td>\n",
              "      <td>7.0</td>\n",
              "    </tr>\n",
              "    <tr>\n",
              "      <th>7</th>\n",
              "      <td>66</td>\n",
              "      <td>2</td>\n",
              "      <td>3.51</td>\n",
              "      <td>5.6</td>\n",
              "    </tr>\n",
              "    <tr>\n",
              "      <th>8</th>\n",
              "      <td>109</td>\n",
              "      <td>5</td>\n",
              "      <td>3.54</td>\n",
              "      <td>7.3</td>\n",
              "    </tr>\n",
              "    <tr>\n",
              "      <th>9</th>\n",
              "      <td>76</td>\n",
              "      <td>3</td>\n",
              "      <td>3.25</td>\n",
              "      <td>6.4</td>\n",
              "    </tr>\n",
              "  </tbody>\n",
              "</table>\n",
              "</div>\n",
              "    <div class=\"colab-df-buttons\">\n",
              "\n",
              "  <div class=\"colab-df-container\">\n",
              "    <button class=\"colab-df-convert\" onclick=\"convertToInteractive('df-2c60ec90-a54e-446d-bf8d-b45c72222172')\"\n",
              "            title=\"Convert this dataframe to an interactive table.\"\n",
              "            style=\"display:none;\">\n",
              "\n",
              "  <svg xmlns=\"http://www.w3.org/2000/svg\" height=\"24px\" viewBox=\"0 -960 960 960\">\n",
              "    <path d=\"M120-120v-720h720v720H120Zm60-500h600v-160H180v160Zm220 220h160v-160H400v160Zm0 220h160v-160H400v160ZM180-400h160v-160H180v160Zm440 0h160v-160H620v160ZM180-180h160v-160H180v160Zm440 0h160v-160H620v160Z\"/>\n",
              "  </svg>\n",
              "    </button>\n",
              "\n",
              "  <style>\n",
              "    .colab-df-container {\n",
              "      display:flex;\n",
              "      gap: 12px;\n",
              "    }\n",
              "\n",
              "    .colab-df-convert {\n",
              "      background-color: #E8F0FE;\n",
              "      border: none;\n",
              "      border-radius: 50%;\n",
              "      cursor: pointer;\n",
              "      display: none;\n",
              "      fill: #1967D2;\n",
              "      height: 32px;\n",
              "      padding: 0 0 0 0;\n",
              "      width: 32px;\n",
              "    }\n",
              "\n",
              "    .colab-df-convert:hover {\n",
              "      background-color: #E2EBFA;\n",
              "      box-shadow: 0px 1px 2px rgba(60, 64, 67, 0.3), 0px 1px 3px 1px rgba(60, 64, 67, 0.15);\n",
              "      fill: #174EA6;\n",
              "    }\n",
              "\n",
              "    .colab-df-buttons div {\n",
              "      margin-bottom: 4px;\n",
              "    }\n",
              "\n",
              "    [theme=dark] .colab-df-convert {\n",
              "      background-color: #3B4455;\n",
              "      fill: #D2E3FC;\n",
              "    }\n",
              "\n",
              "    [theme=dark] .colab-df-convert:hover {\n",
              "      background-color: #434B5C;\n",
              "      box-shadow: 0px 1px 3px 1px rgba(0, 0, 0, 0.15);\n",
              "      filter: drop-shadow(0px 1px 2px rgba(0, 0, 0, 0.3));\n",
              "      fill: #FFFFFF;\n",
              "    }\n",
              "  </style>\n",
              "\n",
              "    <script>\n",
              "      const buttonEl =\n",
              "        document.querySelector('#df-2c60ec90-a54e-446d-bf8d-b45c72222172 button.colab-df-convert');\n",
              "      buttonEl.style.display =\n",
              "        google.colab.kernel.accessAllowed ? 'block' : 'none';\n",
              "\n",
              "      async function convertToInteractive(key) {\n",
              "        const element = document.querySelector('#df-2c60ec90-a54e-446d-bf8d-b45c72222172');\n",
              "        const dataTable =\n",
              "          await google.colab.kernel.invokeFunction('convertToInteractive',\n",
              "                                                    [key], {});\n",
              "        if (!dataTable) return;\n",
              "\n",
              "        const docLinkHtml = 'Like what you see? Visit the ' +\n",
              "          '<a target=\"_blank\" href=https://colab.research.google.com/notebooks/data_table.ipynb>data table notebook</a>'\n",
              "          + ' to learn more about interactive tables.';\n",
              "        element.innerHTML = '';\n",
              "        dataTable['output_type'] = 'display_data';\n",
              "        await google.colab.output.renderOutput(dataTable, element);\n",
              "        const docLink = document.createElement('div');\n",
              "        docLink.innerHTML = docLinkHtml;\n",
              "        element.appendChild(docLink);\n",
              "      }\n",
              "    </script>\n",
              "  </div>\n",
              "\n",
              "\n",
              "<div id=\"df-e03d650b-031b-415b-b706-81956a1193fa\">\n",
              "  <button class=\"colab-df-quickchart\" onclick=\"quickchart('df-e03d650b-031b-415b-b706-81956a1193fa')\"\n",
              "            title=\"Suggest charts\"\n",
              "            style=\"display:none;\">\n",
              "\n",
              "<svg xmlns=\"http://www.w3.org/2000/svg\" height=\"24px\"viewBox=\"0 0 24 24\"\n",
              "     width=\"24px\">\n",
              "    <g>\n",
              "        <path d=\"M19 3H5c-1.1 0-2 .9-2 2v14c0 1.1.9 2 2 2h14c1.1 0 2-.9 2-2V5c0-1.1-.9-2-2-2zM9 17H7v-7h2v7zm4 0h-2V7h2v10zm4 0h-2v-4h2v4z\"/>\n",
              "    </g>\n",
              "</svg>\n",
              "  </button>\n",
              "\n",
              "<style>\n",
              "  .colab-df-quickchart {\n",
              "      --bg-color: #E8F0FE;\n",
              "      --fill-color: #1967D2;\n",
              "      --hover-bg-color: #E2EBFA;\n",
              "      --hover-fill-color: #174EA6;\n",
              "      --disabled-fill-color: #AAA;\n",
              "      --disabled-bg-color: #DDD;\n",
              "  }\n",
              "\n",
              "  [theme=dark] .colab-df-quickchart {\n",
              "      --bg-color: #3B4455;\n",
              "      --fill-color: #D2E3FC;\n",
              "      --hover-bg-color: #434B5C;\n",
              "      --hover-fill-color: #FFFFFF;\n",
              "      --disabled-bg-color: #3B4455;\n",
              "      --disabled-fill-color: #666;\n",
              "  }\n",
              "\n",
              "  .colab-df-quickchart {\n",
              "    background-color: var(--bg-color);\n",
              "    border: none;\n",
              "    border-radius: 50%;\n",
              "    cursor: pointer;\n",
              "    display: none;\n",
              "    fill: var(--fill-color);\n",
              "    height: 32px;\n",
              "    padding: 0;\n",
              "    width: 32px;\n",
              "  }\n",
              "\n",
              "  .colab-df-quickchart:hover {\n",
              "    background-color: var(--hover-bg-color);\n",
              "    box-shadow: 0 1px 2px rgba(60, 64, 67, 0.3), 0 1px 3px 1px rgba(60, 64, 67, 0.15);\n",
              "    fill: var(--button-hover-fill-color);\n",
              "  }\n",
              "\n",
              "  .colab-df-quickchart-complete:disabled,\n",
              "  .colab-df-quickchart-complete:disabled:hover {\n",
              "    background-color: var(--disabled-bg-color);\n",
              "    fill: var(--disabled-fill-color);\n",
              "    box-shadow: none;\n",
              "  }\n",
              "\n",
              "  .colab-df-spinner {\n",
              "    border: 2px solid var(--fill-color);\n",
              "    border-color: transparent;\n",
              "    border-bottom-color: var(--fill-color);\n",
              "    animation:\n",
              "      spin 1s steps(1) infinite;\n",
              "  }\n",
              "\n",
              "  @keyframes spin {\n",
              "    0% {\n",
              "      border-color: transparent;\n",
              "      border-bottom-color: var(--fill-color);\n",
              "      border-left-color: var(--fill-color);\n",
              "    }\n",
              "    20% {\n",
              "      border-color: transparent;\n",
              "      border-left-color: var(--fill-color);\n",
              "      border-top-color: var(--fill-color);\n",
              "    }\n",
              "    30% {\n",
              "      border-color: transparent;\n",
              "      border-left-color: var(--fill-color);\n",
              "      border-top-color: var(--fill-color);\n",
              "      border-right-color: var(--fill-color);\n",
              "    }\n",
              "    40% {\n",
              "      border-color: transparent;\n",
              "      border-right-color: var(--fill-color);\n",
              "      border-top-color: var(--fill-color);\n",
              "    }\n",
              "    60% {\n",
              "      border-color: transparent;\n",
              "      border-right-color: var(--fill-color);\n",
              "    }\n",
              "    80% {\n",
              "      border-color: transparent;\n",
              "      border-right-color: var(--fill-color);\n",
              "      border-bottom-color: var(--fill-color);\n",
              "    }\n",
              "    90% {\n",
              "      border-color: transparent;\n",
              "      border-bottom-color: var(--fill-color);\n",
              "    }\n",
              "  }\n",
              "</style>\n",
              "\n",
              "  <script>\n",
              "    async function quickchart(key) {\n",
              "      const quickchartButtonEl =\n",
              "        document.querySelector('#' + key + ' button');\n",
              "      quickchartButtonEl.disabled = true;  // To prevent multiple clicks.\n",
              "      quickchartButtonEl.classList.add('colab-df-spinner');\n",
              "      try {\n",
              "        const charts = await google.colab.kernel.invokeFunction(\n",
              "            'suggestCharts', [key], {});\n",
              "      } catch (error) {\n",
              "        console.error('Error during call to suggestCharts:', error);\n",
              "      }\n",
              "      quickchartButtonEl.classList.remove('colab-df-spinner');\n",
              "      quickchartButtonEl.classList.add('colab-df-quickchart-complete');\n",
              "    }\n",
              "    (() => {\n",
              "      let quickchartButtonEl =\n",
              "        document.querySelector('#df-e03d650b-031b-415b-b706-81956a1193fa button');\n",
              "      quickchartButtonEl.style.display =\n",
              "        google.colab.kernel.accessAllowed ? 'block' : 'none';\n",
              "    })();\n",
              "  </script>\n",
              "</div>\n",
              "\n",
              "  <div id=\"id_9ae81793-1a82-4cec-aa6b-511dde0d7d00\">\n",
              "    <style>\n",
              "      .colab-df-generate {\n",
              "        background-color: #E8F0FE;\n",
              "        border: none;\n",
              "        border-radius: 50%;\n",
              "        cursor: pointer;\n",
              "        display: none;\n",
              "        fill: #1967D2;\n",
              "        height: 32px;\n",
              "        padding: 0 0 0 0;\n",
              "        width: 32px;\n",
              "      }\n",
              "\n",
              "      .colab-df-generate:hover {\n",
              "        background-color: #E2EBFA;\n",
              "        box-shadow: 0px 1px 2px rgba(60, 64, 67, 0.3), 0px 1px 3px 1px rgba(60, 64, 67, 0.15);\n",
              "        fill: #174EA6;\n",
              "      }\n",
              "\n",
              "      [theme=dark] .colab-df-generate {\n",
              "        background-color: #3B4455;\n",
              "        fill: #D2E3FC;\n",
              "      }\n",
              "\n",
              "      [theme=dark] .colab-df-generate:hover {\n",
              "        background-color: #434B5C;\n",
              "        box-shadow: 0px 1px 3px 1px rgba(0, 0, 0, 0.15);\n",
              "        filter: drop-shadow(0px 1px 2px rgba(0, 0, 0, 0.3));\n",
              "        fill: #FFFFFF;\n",
              "      }\n",
              "    </style>\n",
              "    <button class=\"colab-df-generate\" onclick=\"generateWithVariable('df')\"\n",
              "            title=\"Generate code using this dataframe.\"\n",
              "            style=\"display:none;\">\n",
              "\n",
              "  <svg xmlns=\"http://www.w3.org/2000/svg\" height=\"24px\"viewBox=\"0 0 24 24\"\n",
              "       width=\"24px\">\n",
              "    <path d=\"M7,19H8.4L18.45,9,17,7.55,7,17.6ZM5,21V16.75L18.45,3.32a2,2,0,0,1,2.83,0l1.4,1.43a1.91,1.91,0,0,1,.58,1.4,1.91,1.91,0,0,1-.58,1.4L9.25,21ZM18.45,9,17,7.55Zm-12,3A5.31,5.31,0,0,0,4.9,8.1,5.31,5.31,0,0,0,1,6.5,5.31,5.31,0,0,0,4.9,4.9,5.31,5.31,0,0,0,6.5,1,5.31,5.31,0,0,0,8.1,4.9,5.31,5.31,0,0,0,12,6.5,5.46,5.46,0,0,0,6.5,12Z\"/>\n",
              "  </svg>\n",
              "    </button>\n",
              "    <script>\n",
              "      (() => {\n",
              "      const buttonEl =\n",
              "        document.querySelector('#id_9ae81793-1a82-4cec-aa6b-511dde0d7d00 button.colab-df-generate');\n",
              "      buttonEl.style.display =\n",
              "        google.colab.kernel.accessAllowed ? 'block' : 'none';\n",
              "\n",
              "      buttonEl.onclick = () => {\n",
              "        google.colab.notebook.generateWithVariable('df');\n",
              "      }\n",
              "      })();\n",
              "    </script>\n",
              "  </div>\n",
              "\n",
              "    </div>\n",
              "  </div>\n"
            ],
            "application/vnd.google.colaboratory.intrinsic+json": {
              "type": "dataframe",
              "variable_name": "df",
              "summary": "{\n  \"name\": \"df\",\n  \"rows\": 10,\n  \"fields\": [\n    {\n      \"column\": \"Miles Traveled\",\n      \"properties\": {\n        \"dtype\": \"number\",\n        \"std\": 19,\n        \"min\": 44,\n        \"max\": 111,\n        \"num_unique_values\": 9,\n        \"samples\": [\n          109,\n          66,\n          77\n        ],\n        \"semantic_type\": \"\",\n        \"description\": \"\"\n      }\n    },\n    {\n      \"column\": \"Number of Deliveries\",\n      \"properties\": {\n        \"dtype\": \"number\",\n        \"std\": 1,\n        \"min\": 1,\n        \"max\": 6,\n        \"num_unique_values\": 6,\n        \"samples\": [\n          4,\n          1,\n          5\n        ],\n        \"semantic_type\": \"\",\n        \"description\": \"\"\n      }\n    },\n    {\n      \"column\": \"Gas Price\",\n      \"properties\": {\n        \"dtype\": \"number\",\n        \"std\": 0.2856201829158592,\n        \"min\": 3.03,\n        \"max\": 3.89,\n        \"num_unique_values\": 9,\n        \"samples\": [\n          3.54,\n          3.19,\n          3.03\n        ],\n        \"semantic_type\": \"\",\n        \"description\": \"\"\n      }\n    },\n    {\n      \"column\": \"Travel Time\",\n      \"properties\": {\n        \"dtype\": \"number\",\n        \"std\": 0.8672433978480961,\n        \"min\": 4.8,\n        \"max\": 7.4,\n        \"num_unique_values\": 8,\n        \"samples\": [\n          5.4,\n          6.4,\n          7.0\n        ],\n        \"semantic_type\": \"\",\n        \"description\": \"\"\n      }\n    }\n  ]\n}"
            }
          },
          "metadata": {},
          "execution_count": 53
        }
      ],
      "source": [
        "df"
      ]
    },
    {
      "cell_type": "markdown",
      "metadata": {
        "id": "0e7F0WCne-8o"
      },
      "source": [
        "## A. Correlation"
      ]
    },
    {
      "cell_type": "markdown",
      "metadata": {
        "id": "U08ybiFgMbQ7"
      },
      "source": [
        "### Check the relationships between each independent variable and the dependent variable using scatterplots and correlations."
      ]
    },
    {
      "cell_type": "markdown",
      "source": [
        "1. Create scatter plot between miles traveled and travel time"
      ],
      "metadata": {
        "id": "wRYSx_gUbb3N"
      }
    },
    {
      "cell_type": "code",
      "execution_count": 57,
      "metadata": {
        "id": "h7_ZHYhYDuSe",
        "colab": {
          "base_uri": "https://localhost:8080/",
          "height": 451
        },
        "outputId": "cdcec44f-6f40-4c1a-e854-c52c61c0c502"
      },
      "outputs": [
        {
          "output_type": "display_data",
          "data": {
            "text/plain": [
              "<Figure size 640x480 with 1 Axes>"
            ],
            "image/png": "[encoded data removed]"
          },
          "metadata": {}
        }
      ],
      "source": [
        "plt.scatter(df[\"Miles Traveled\"],\n",
        "            df[\"Travel Time\"])\n",
        "\n",
        "plt.xlabel('Miles Traveled')\n",
        "plt.ylabel('Travel Time')\n",
        "plt.show()"
      ]
    },
    {
      "cell_type": "markdown",
      "source": [
        "2. Create scatter plot between number of deliveries and travel time"
      ],
      "metadata": {
        "id": "VNOMGC4tblzn"
      }
    },
    {
      "cell_type": "code",
      "execution_count": 58,
      "metadata": {
        "id": "4HE-5zP9EFx0",
        "colab": {
          "base_uri": "https://localhost:8080/",
          "height": 451
        },
        "outputId": "ff37571e-041f-48f5-b206-c4278044ad1b"
      },
      "outputs": [
        {
          "output_type": "display_data",
          "data": {
            "text/plain": [
              "<Figure size 640x480 with 1 Axes>"
            ],
            "image/png": "[encoded data removed]"
          },
          "metadata": {}
        }
      ],
      "source": [
        "plt.scatter(df[\"Number of Deliveries\"],\n",
        "            df[\"Travel Time\"])\n",
        "\n",
        "plt.xlabel('Number of Deliveries')\n",
        "plt.ylabel('Travel Time')\n",
        "plt.show()"
      ]
    },
    {
      "cell_type": "markdown",
      "source": [
        "3. Create scatter plot between Gas Price and Travel time"
      ],
      "metadata": {
        "id": "MtjV8Zl5bquY"
      }
    },
    {
      "cell_type": "code",
      "execution_count": 59,
      "metadata": {
        "id": "kWtQ4QKcEeVU",
        "colab": {
          "base_uri": "https://localhost:8080/",
          "height": 451
        },
        "outputId": "0987feab-31b6-4aed-f5c0-aa884cb1d4c0"
      },
      "outputs": [
        {
          "output_type": "display_data",
          "data": {
            "text/plain": [
              "<Figure size 640x480 with 1 Axes>"
            ],
            "image/png": "[encoded data removed]"
          },
          "metadata": {}
        }
      ],
      "source": [
        "plt.scatter(df[\"Gas Price\"],\n",
        "            df[\"Travel Time\"])\n",
        "\n",
        "plt.xlabel('Gas Price')\n",
        "plt.ylabel('Travel Time')\n",
        "plt.show()"
      ]
    },
    {
      "cell_type": "markdown",
      "source": [
        "4. Create a pairplot"
      ],
      "metadata": {
        "id": "Y-5Oe1aTb1ML"
      }
    },
    {
      "cell_type": "code",
      "execution_count": 60,
      "metadata": {
        "id": "8eJqX_RXTFCA",
        "colab": {
          "base_uri": "https://localhost:8080/",
          "height": 825
        },
        "outputId": "6a316f59-6f0c-4382-c18c-7a23d3816cf8"
      },
      "outputs": [
        {
          "output_type": "execute_result",
          "data": {
            "text/plain": [
              "<seaborn.axisgrid.PairGrid at 0x7e2350606590>"
            ]
          },
          "metadata": {},
          "execution_count": 60
        },
        {
          "output_type": "display_data",
          "data": {
            "text/plain": [
              "<Figure size 800x800 with 20 Axes>"
            ],
            "image/png": "[encoded data removed]"
          },
          "metadata": {}
        }
      ],
      "source": [
        "sns.set_palette('colorblind')\n",
        "sns.pairplot(data=df, height=2)"
      ]
    },
    {
      "cell_type": "markdown",
      "source": [
        "5. Calculate correlation coefficient (between -1 and 1) and p-value between Miles Traveled and Travel Time"
      ],
      "metadata": {
        "id": "N2Cwy4EZb6CY"
      }
    },
    {
      "cell_type": "code",
      "execution_count": 61,
      "metadata": {
        "id": "z85FNuL3XykJ",
        "colab": {
          "base_uri": "https://localhost:8080/"
        },
        "outputId": "e7646724-43a6-45cf-e4e9-b62b8bcd3e2a"
      },
      "outputs": [
        {
          "output_type": "stream",
          "name": "stdout",
          "text": [
            "Miles Traveled and Travel Time\n",
            "Correlation Coefficient:  0.928178500887476\n",
            "p-value:  0.00010667565429896801\n"
          ]
        }
      ],
      "source": [
        "result = pearsonr(df['Miles Traveled'], df['Travel Time'])\n",
        "print(\"Miles Traveled and Travel Time\")\n",
        "print(\"Correlation Coefficient: \", result[0])\n",
        "print(\"p-value: \", result[1])"
      ]
    },
    {
      "cell_type": "markdown",
      "source": [
        "6. Calculate correlation coefficient (between -1 and 1) and p-value between Number of Deliveries and Travel Time"
      ],
      "metadata": {
        "id": "V0tmekGtcEBS"
      }
    },
    {
      "cell_type": "code",
      "execution_count": 62,
      "metadata": {
        "id": "V5GzGetxZyJj",
        "colab": {
          "base_uri": "https://localhost:8080/"
        },
        "outputId": "686510df-3cf0-47d1-b745-646094d4fcd7"
      },
      "outputs": [
        {
          "output_type": "stream",
          "name": "stdout",
          "text": [
            "Number of Deliveries and Travel Time\n",
            "Correlation Coefficient:  0.9164433964470268\n",
            "p-value:  0.00019260878342962958\n"
          ]
        }
      ],
      "source": [
        "result = pearsonr(df['Number of Deliveries'], df['Travel Time'])\n",
        "print(\"Number of Deliveries and Travel Time\")\n",
        "print(\"Correlation Coefficient: \", result[0])\n",
        "print(\"p-value: \", result[1])"
      ]
    },
    {
      "cell_type": "markdown",
      "source": [
        "7. Calculate correlation coefficient (between -1 and 1) and p-value between Gas Price and Travel Time"
      ],
      "metadata": {
        "id": "zt28PWuxcPNm"
      }
    },
    {
      "cell_type": "code",
      "execution_count": 63,
      "metadata": {
        "id": "i4XIek0XaF0H",
        "colab": {
          "base_uri": "https://localhost:8080/"
        },
        "outputId": "16ba0a79-7121-4765-cc9f-5c341da61681"
      },
      "outputs": [
        {
          "output_type": "stream",
          "name": "stdout",
          "text": [
            "Gas Price and Travel Time\n",
            "Correlation Coefficient:  0.2672115310193847\n",
            "p-value:  0.45545341268508166\n"
          ]
        }
      ],
      "source": [
        "result = pearsonr(df['Gas Price'], df['Travel Time'])\n",
        "print(\"Gas Price and Travel Time\")\n",
        "print(\"Correlation Coefficient: \", result[0])\n",
        "print(\"p-value: \", result[1])"
      ]
    },
    {
      "cell_type": "markdown",
      "metadata": {
        "id": "m0LFj6GwMmmT"
      },
      "source": [
        "### Check the relationships among the independent variables using scatterplots and correlations."
      ]
    },
    {
      "cell_type": "markdown",
      "source": [
        "8. Create scatter plot between Miles Traveled and Number of Deliveries."
      ],
      "metadata": {
        "id": "KzhtMwk9cgUc"
      }
    },
    {
      "cell_type": "code",
      "execution_count": 64,
      "metadata": {
        "id": "fkCUT89bMsOo",
        "colab": {
          "base_uri": "https://localhost:8080/",
          "height": 449
        },
        "outputId": "179cb9b1-7150-4a89-cc43-6ba4743195eb"
      },
      "outputs": [
        {
          "output_type": "display_data",
          "data": {
            "text/plain": [
              "<Figure size 640x480 with 1 Axes>"
            ],
            "image/png": "[encoded data removed]"
          },
          "metadata": {}
        }
      ],
      "source": [
        "plt.scatter(df[\"Miles Traveled\"],\n",
        "            df[\"Number of Deliveries\"])\n",
        "\n",
        "plt.xlabel('Miles Traveled')\n",
        "plt.ylabel('Number of Deliveries')\n",
        "plt.show()"
      ]
    },
    {
      "cell_type": "markdown",
      "source": [
        "9. Create scatter plot between Miles traveled and Gas Price"
      ],
      "metadata": {
        "id": "9Vt6fAWHcpNs"
      }
    },
    {
      "cell_type": "code",
      "execution_count": 65,
      "metadata": {
        "id": "FkwyhaaxMwOE",
        "colab": {
          "base_uri": "https://localhost:8080/",
          "height": 449
        },
        "outputId": "b1f59da7-ec24-448e-fca5-5e4110281c5f"
      },
      "outputs": [
        {
          "output_type": "display_data",
          "data": {
            "text/plain": [
              "<Figure size 640x480 with 1 Axes>"
            ],
            "image/png": "[encoded data removed]"
          },
          "metadata": {}
        }
      ],
      "source": [
        "plt.scatter(df[\"Miles Traveled\"],\n",
        "            df[\"Gas Price\"])\n",
        "\n",
        "plt.xlabel('Miles Traveled')\n",
        "plt.ylabel('Gas Price')\n",
        "plt.show()"
      ]
    },
    {
      "cell_type": "markdown",
      "source": [
        "10. Create scatter plot between Number of Deliveries and Gas Price"
      ],
      "metadata": {
        "id": "MLIy3oRecvZi"
      }
    },
    {
      "cell_type": "code",
      "execution_count": 66,
      "metadata": {
        "id": "e0rICg_lM3c3",
        "colab": {
          "base_uri": "https://localhost:8080/",
          "height": 449
        },
        "outputId": "9d7ea006-d371-4b8d-e587-a549a3fddc89"
      },
      "outputs": [
        {
          "output_type": "display_data",
          "data": {
            "text/plain": [
              "<Figure size 640x480 with 1 Axes>"
            ],
            "image/png": "[encoded data removed]"
          },
          "metadata": {}
        }
      ],
      "source": [
        "plt.scatter(df[\"Number of Deliveries\"],\n",
        "            df[\"Gas Price\"])\n",
        "\n",
        "plt.xlabel('Number of Deliveries')\n",
        "plt.ylabel('Gas Price')\n",
        "plt.show()"
      ]
    },
    {
      "cell_type": "markdown",
      "source": [
        "11. Calculate correlation coefficient (between -1 and 1) and p-value between Miles Traveled and Number of Deliveries"
      ],
      "metadata": {
        "id": "SQsY1LuLc7hj"
      }
    },
    {
      "cell_type": "code",
      "execution_count": 67,
      "metadata": {
        "id": "Gg16fgdqbPgf",
        "colab": {
          "base_uri": "https://localhost:8080/"
        },
        "outputId": "6cf4bd69-dc28-4077-d01f-286d5c43dbe4"
      },
      "outputs": [
        {
          "output_type": "stream",
          "name": "stdout",
          "text": [
            "Miles Traveled and Number of Deliveries\n",
            "Correlation Coefficient:  0.9558982066200347\n",
            "p-value:  1.5690314407660616e-05\n"
          ]
        }
      ],
      "source": [
        "result = pearsonr(df['Miles Traveled'], df['Number of Deliveries'])\n",
        "print(\"Miles Traveled and Number of Deliveries\")\n",
        "print(\"Correlation Coefficient: \", result[0])\n",
        "print(\"p-value: \", result[1])"
      ]
    },
    {
      "cell_type": "markdown",
      "source": [
        "12. Calculate correlation coefficient (between -1 and 1) and p-value between Miles Traveled and Gas Price"
      ],
      "metadata": {
        "id": "gsHXLDy8dEd8"
      }
    },
    {
      "cell_type": "code",
      "execution_count": 68,
      "metadata": {
        "id": "1RLWTs82bb3t",
        "colab": {
          "base_uri": "https://localhost:8080/"
        },
        "outputId": "93575a21-1e01-4da1-ce03-0f89e4d26137"
      },
      "outputs": [
        {
          "output_type": "stream",
          "name": "stdout",
          "text": [
            "Miles Traveled and Gas Price\n",
            "Correlation Coefficient:  0.35579623354708517\n",
            "p-value:  0.31296405908178965\n"
          ]
        }
      ],
      "source": [
        "result = pearsonr(df['Miles Traveled'], df['Gas Price'])\n",
        "print(\"Miles Traveled and Gas Price\")\n",
        "print(\"Correlation Coefficient: \", result[0])\n",
        "print(\"p-value: \", result[1])"
      ]
    },
    {
      "cell_type": "markdown",
      "source": [
        "13. Calculate correlation coefficient (between -1 and 1) and p-value between Number of Deliveries and Gas Price"
      ],
      "metadata": {
        "id": "B9_ehI_TdGjv"
      }
    },
    {
      "cell_type": "code",
      "execution_count": 69,
      "metadata": {
        "id": "schBTh7hbmmw",
        "colab": {
          "base_uri": "https://localhost:8080/"
        },
        "outputId": "c74f9e2e-1496-40b1-b79a-ae1475c94c8b"
      },
      "outputs": [
        {
          "output_type": "stream",
          "name": "stdout",
          "text": [
            "Number of Deliveries and Gas Price\n",
            "Correlation Coefficient:  0.4982421647401633\n",
            "p-value:  0.142741207670319\n"
          ]
        }
      ],
      "source": [
        "result = pearsonr(df['Number of Deliveries'], df['Gas Price'])\n",
        "print(\"Number of Deliveries and Gas Price\")\n",
        "print(\"Correlation Coefficient: \", result[0])\n",
        "print(\"p-value: \", result[1])"
      ]
    },
    {
      "cell_type": "markdown",
      "metadata": {
        "id": "7vtm7gQFc8Am"
      },
      "source": [
        "### Correlation Summary"
      ]
    },
    {
      "cell_type": "markdown",
      "source": [
        "14. Create the correlation summary"
      ],
      "metadata": {
        "id": "9ZkVzcUndOjU"
      }
    },
    {
      "cell_type": "code",
      "execution_count": 70,
      "metadata": {
        "id": "ti0mQdimO_S5",
        "colab": {
          "base_uri": "https://localhost:8080/",
          "height": 175
        },
        "outputId": "ec99ba4e-e2e8-49fe-82ce-589b47c2ea7f"
      },
      "outputs": [
        {
          "output_type": "execute_result",
          "data": {
            "text/plain": [
              "                      Miles Traveled  Number of Deliveries  Gas Price  \\\n",
              "Miles Traveled              1.000000              0.955898   0.355796   \n",
              "Number of Deliveries        0.955898              1.000000   0.498242   \n",
              "Gas Price                   0.355796              0.498242   1.000000   \n",
              "Travel Time                 0.928179              0.916443   0.267212   \n",
              "\n",
              "                      Travel Time  \n",
              "Miles Traveled           0.928179  \n",
              "Number of Deliveries     0.916443  \n",
              "Gas Price                0.267212  \n",
              "Travel Time              1.000000  "
            ],
            "text/html": [
              "\n",
              "  <div id=\"df-f60e33ac-da97-4ed7-9c27-56ba8aa45a26\" class=\"colab-df-container\">\n",
              "    <div>\n",
              "<style scoped>\n",
              "    .dataframe tbody tr th:only-of-type {\n",
              "        vertical-align: middle;\n",
              "    }\n",
              "\n",
              "    .dataframe tbody tr th {\n",
              "        vertical-align: top;\n",
              "    }\n",
              "\n",
              "    .dataframe thead th {\n",
              "        text-align: right;\n",
              "    }\n",
              "</style>\n",
              "<table border=\"1\" class=\"dataframe\">\n",
              "  <thead>\n",
              "    <tr style=\"text-align: right;\">\n",
              "      <th></th>\n",
              "      <th>Miles Traveled</th>\n",
              "      <th>Number of Deliveries</th>\n",
              "      <th>Gas Price</th>\n",
              "      <th>Travel Time</th>\n",
              "    </tr>\n",
              "  </thead>\n",
              "  <tbody>\n",
              "    <tr>\n",
              "      <th>Miles Traveled</th>\n",
              "      <td>1.000000</td>\n",
              "      <td>0.955898</td>\n",
              "      <td>0.355796</td>\n",
              "      <td>0.928179</td>\n",
              "    </tr>\n",
              "    <tr>\n",
              "      <th>Number of Deliveries</th>\n",
              "      <td>0.955898</td>\n",
              "      <td>1.000000</td>\n",
              "      <td>0.498242</td>\n",
              "      <td>0.916443</td>\n",
              "    </tr>\n",
              "    <tr>\n",
              "      <th>Gas Price</th>\n",
              "      <td>0.355796</td>\n",
              "      <td>0.498242</td>\n",
              "      <td>1.000000</td>\n",
              "      <td>0.267212</td>\n",
              "    </tr>\n",
              "    <tr>\n",
              "      <th>Travel Time</th>\n",
              "      <td>0.928179</td>\n",
              "      <td>0.916443</td>\n",
              "      <td>0.267212</td>\n",
              "      <td>1.000000</td>\n",
              "    </tr>\n",
              "  </tbody>\n",
              "</table>\n",
              "</div>\n",
              "    <div class=\"colab-df-buttons\">\n",
              "\n",
              "  <div class=\"colab-df-container\">\n",
              "    <button class=\"colab-df-convert\" onclick=\"convertToInteractive('df-f60e33ac-da97-4ed7-9c27-56ba8aa45a26')\"\n",
              "            title=\"Convert this dataframe to an interactive table.\"\n",
              "            style=\"display:none;\">\n",
              "\n",
              "  <svg xmlns=\"http://www.w3.org/2000/svg\" height=\"24px\" viewBox=\"0 -960 960 960\">\n",
              "    <path d=\"M120-120v-720h720v720H120Zm60-500h600v-160H180v160Zm220 220h160v-160H400v160Zm0 220h160v-160H400v160ZM180-400h160v-160H180v160Zm440 0h160v-160H620v160ZM180-180h160v-160H180v160Zm440 0h160v-160H620v160Z\"/>\n",
              "  </svg>\n",
              "    </button>\n",
              "\n",
              "  <style>\n",
              "    .colab-df-container {\n",
              "      display:flex;\n",
              "      gap: 12px;\n",
              "    }\n",
              "\n",
              "    .colab-df-convert {\n",
              "      background-color: #E8F0FE;\n",
              "      border: none;\n",
              "      border-radius: 50%;\n",
              "      cursor: pointer;\n",
              "      display: none;\n",
              "      fill: #1967D2;\n",
              "      height: 32px;\n",
              "      padding: 0 0 0 0;\n",
              "      width: 32px;\n",
              "    }\n",
              "\n",
              "    .colab-df-convert:hover {\n",
              "      background-color: #E2EBFA;\n",
              "      box-shadow: 0px 1px 2px rgba(60, 64, 67, 0.3), 0px 1px 3px 1px rgba(60, 64, 67, 0.15);\n",
              "      fill: #174EA6;\n",
              "    }\n",
              "\n",
              "    .colab-df-buttons div {\n",
              "      margin-bottom: 4px;\n",
              "    }\n",
              "\n",
              "    [theme=dark] .colab-df-convert {\n",
              "      background-color: #3B4455;\n",
              "      fill: #D2E3FC;\n",
              "    }\n",
              "\n",
              "    [theme=dark] .colab-df-convert:hover {\n",
              "      background-color: #434B5C;\n",
              "      box-shadow: 0px 1px 3px 1px rgba(0, 0, 0, 0.15);\n",
              "      filter: drop-shadow(0px 1px 2px rgba(0, 0, 0, 0.3));\n",
              "      fill: #FFFFFF;\n",
              "    }\n",
              "  </style>\n",
              "\n",
              "    <script>\n",
              "      const buttonEl =\n",
              "        document.querySelector('#df-f60e33ac-da97-4ed7-9c27-56ba8aa45a26 button.colab-df-convert');\n",
              "      buttonEl.style.display =\n",
              "        google.colab.kernel.accessAllowed ? 'block' : 'none';\n",
              "\n",
              "      async function convertToInteractive(key) {\n",
              "        const element = document.querySelector('#df-f60e33ac-da97-4ed7-9c27-56ba8aa45a26');\n",
              "        const dataTable =\n",
              "          await google.colab.kernel.invokeFunction('convertToInteractive',\n",
              "                                                    [key], {});\n",
              "        if (!dataTable) return;\n",
              "\n",
              "        const docLinkHtml = 'Like what you see? Visit the ' +\n",
              "          '<a target=\"_blank\" href=https://colab.research.google.com/notebooks/data_table.ipynb>data table notebook</a>'\n",
              "          + ' to learn more about interactive tables.';\n",
              "        element.innerHTML = '';\n",
              "        dataTable['output_type'] = 'display_data';\n",
              "        await google.colab.output.renderOutput(dataTable, element);\n",
              "        const docLink = document.createElement('div');\n",
              "        docLink.innerHTML = docLinkHtml;\n",
              "        element.appendChild(docLink);\n",
              "      }\n",
              "    </script>\n",
              "  </div>\n",
              "\n",
              "\n",
              "<div id=\"df-f1445cb0-8e90-410f-b68f-4bfca4e00571\">\n",
              "  <button class=\"colab-df-quickchart\" onclick=\"quickchart('df-f1445cb0-8e90-410f-b68f-4bfca4e00571')\"\n",
              "            title=\"Suggest charts\"\n",
              "            style=\"display:none;\">\n",
              "\n",
              "<svg xmlns=\"http://www.w3.org/2000/svg\" height=\"24px\"viewBox=\"0 0 24 24\"\n",
              "     width=\"24px\">\n",
              "    <g>\n",
              "        <path d=\"M19 3H5c-1.1 0-2 .9-2 2v14c0 1.1.9 2 2 2h14c1.1 0 2-.9 2-2V5c0-1.1-.9-2-2-2zM9 17H7v-7h2v7zm4 0h-2V7h2v10zm4 0h-2v-4h2v4z\"/>\n",
              "    </g>\n",
              "</svg>\n",
              "  </button>\n",
              "\n",
              "<style>\n",
              "  .colab-df-quickchart {\n",
              "      --bg-color: #E8F0FE;\n",
              "      --fill-color: #1967D2;\n",
              "      --hover-bg-color: #E2EBFA;\n",
              "      --hover-fill-color: #174EA6;\n",
              "      --disabled-fill-color: #AAA;\n",
              "      --disabled-bg-color: #DDD;\n",
              "  }\n",
              "\n",
              "  [theme=dark] .colab-df-quickchart {\n",
              "      --bg-color: #3B4455;\n",
              "      --fill-color: #D2E3FC;\n",
              "      --hover-bg-color: #434B5C;\n",
              "      --hover-fill-color: #FFFFFF;\n",
              "      --disabled-bg-color: #3B4455;\n",
              "      --disabled-fill-color: #666;\n",
              "  }\n",
              "\n",
              "  .colab-df-quickchart {\n",
              "    background-color: var(--bg-color);\n",
              "    border: none;\n",
              "    border-radius: 50%;\n",
              "    cursor: pointer;\n",
              "    display: none;\n",
              "    fill: var(--fill-color);\n",
              "    height: 32px;\n",
              "    padding: 0;\n",
              "    width: 32px;\n",
              "  }\n",
              "\n",
              "  .colab-df-quickchart:hover {\n",
              "    background-color: var(--hover-bg-color);\n",
              "    box-shadow: 0 1px 2px rgba(60, 64, 67, 0.3), 0 1px 3px 1px rgba(60, 64, 67, 0.15);\n",
              "    fill: var(--button-hover-fill-color);\n",
              "  }\n",
              "\n",
              "  .colab-df-quickchart-complete:disabled,\n",
              "  .colab-df-quickchart-complete:disabled:hover {\n",
              "    background-color: var(--disabled-bg-color);\n",
              "    fill: var(--disabled-fill-color);\n",
              "    box-shadow: none;\n",
              "  }\n",
              "\n",
              "  .colab-df-spinner {\n",
              "    border: 2px solid var(--fill-color);\n",
              "    border-color: transparent;\n",
              "    border-bottom-color: var(--fill-color);\n",
              "    animation:\n",
              "      spin 1s steps(1) infinite;\n",
              "  }\n",
              "\n",
              "  @keyframes spin {\n",
              "    0% {\n",
              "      border-color: transparent;\n",
              "      border-bottom-color: var(--fill-color);\n",
              "      border-left-color: var(--fill-color);\n",
              "    }\n",
              "    20% {\n",
              "      border-color: transparent;\n",
              "      border-left-color: var(--fill-color);\n",
              "      border-top-color: var(--fill-color);\n",
              "    }\n",
              "    30% {\n",
              "      border-color: transparent;\n",
              "      border-left-color: var(--fill-color);\n",
              "      border-top-color: var(--fill-color);\n",
              "      border-right-color: var(--fill-color);\n",
              "    }\n",
              "    40% {\n",
              "      border-color: transparent;\n",
              "      border-right-color: var(--fill-color);\n",
              "      border-top-color: var(--fill-color);\n",
              "    }\n",
              "    60% {\n",
              "      border-color: transparent;\n",
              "      border-right-color: var(--fill-color);\n",
              "    }\n",
              "    80% {\n",
              "      border-color: transparent;\n",
              "      border-right-color: var(--fill-color);\n",
              "      border-bottom-color: var(--fill-color);\n",
              "    }\n",
              "    90% {\n",
              "      border-color: transparent;\n",
              "      border-bottom-color: var(--fill-color);\n",
              "    }\n",
              "  }\n",
              "</style>\n",
              "\n",
              "  <script>\n",
              "    async function quickchart(key) {\n",
              "      const quickchartButtonEl =\n",
              "        document.querySelector('#' + key + ' button');\n",
              "      quickchartButtonEl.disabled = true;  // To prevent multiple clicks.\n",
              "      quickchartButtonEl.classList.add('colab-df-spinner');\n",
              "      try {\n",
              "        const charts = await google.colab.kernel.invokeFunction(\n",
              "            'suggestCharts', [key], {});\n",
              "      } catch (error) {\n",
              "        console.error('Error during call to suggestCharts:', error);\n",
              "      }\n",
              "      quickchartButtonEl.classList.remove('colab-df-spinner');\n",
              "      quickchartButtonEl.classList.add('colab-df-quickchart-complete');\n",
              "    }\n",
              "    (() => {\n",
              "      let quickchartButtonEl =\n",
              "        document.querySelector('#df-f1445cb0-8e90-410f-b68f-4bfca4e00571 button');\n",
              "      quickchartButtonEl.style.display =\n",
              "        google.colab.kernel.accessAllowed ? 'block' : 'none';\n",
              "    })();\n",
              "  </script>\n",
              "</div>\n",
              "\n",
              "  <div id=\"id_49055cce-879c-4299-b767-3a2bd43a6481\">\n",
              "    <style>\n",
              "      .colab-df-generate {\n",
              "        background-color: #E8F0FE;\n",
              "        border: none;\n",
              "        border-radius: 50%;\n",
              "        cursor: pointer;\n",
              "        display: none;\n",
              "        fill: #1967D2;\n",
              "        height: 32px;\n",
              "        padding: 0 0 0 0;\n",
              "        width: 32px;\n",
              "      }\n",
              "\n",
              "      .colab-df-generate:hover {\n",
              "        background-color: #E2EBFA;\n",
              "        box-shadow: 0px 1px 2px rgba(60, 64, 67, 0.3), 0px 1px 3px 1px rgba(60, 64, 67, 0.15);\n",
              "        fill: #174EA6;\n",
              "      }\n",
              "\n",
              "      [theme=dark] .colab-df-generate {\n",
              "        background-color: #3B4455;\n",
              "        fill: #D2E3FC;\n",
              "      }\n",
              "\n",
              "      [theme=dark] .colab-df-generate:hover {\n",
              "        background-color: #434B5C;\n",
              "        box-shadow: 0px 1px 3px 1px rgba(0, 0, 0, 0.15);\n",
              "        filter: drop-shadow(0px 1px 2px rgba(0, 0, 0, 0.3));\n",
              "        fill: #FFFFFF;\n",
              "      }\n",
              "    </style>\n",
              "    <button class=\"colab-df-generate\" onclick=\"generateWithVariable('correlation')\"\n",
              "            title=\"Generate code using this dataframe.\"\n",
              "            style=\"display:none;\">\n",
              "\n",
              "  <svg xmlns=\"http://www.w3.org/2000/svg\" height=\"24px\"viewBox=\"0 0 24 24\"\n",
              "       width=\"24px\">\n",
              "    <path d=\"M7,19H8.4L18.45,9,17,7.55,7,17.6ZM5,21V16.75L18.45,3.32a2,2,0,0,1,2.83,0l1.4,1.43a1.91,1.91,0,0,1,.58,1.4,1.91,1.91,0,0,1-.58,1.4L9.25,21ZM18.45,9,17,7.55Zm-12,3A5.31,5.31,0,0,0,4.9,8.1,5.31,5.31,0,0,0,1,6.5,5.31,5.31,0,0,0,4.9,4.9,5.31,5.31,0,0,0,6.5,1,5.31,5.31,0,0,0,8.1,4.9,5.31,5.31,0,0,0,12,6.5,5.46,5.46,0,0,0,6.5,12Z\"/>\n",
              "  </svg>\n",
              "    </button>\n",
              "    <script>\n",
              "      (() => {\n",
              "      const buttonEl =\n",
              "        document.querySelector('#id_49055cce-879c-4299-b767-3a2bd43a6481 button.colab-df-generate');\n",
              "      buttonEl.style.display =\n",
              "        google.colab.kernel.accessAllowed ? 'block' : 'none';\n",
              "\n",
              "      buttonEl.onclick = () => {\n",
              "        google.colab.notebook.generateWithVariable('correlation');\n",
              "      }\n",
              "      })();\n",
              "    </script>\n",
              "  </div>\n",
              "\n",
              "    </div>\n",
              "  </div>\n"
            ],
            "application/vnd.google.colaboratory.intrinsic+json": {
              "type": "dataframe",
              "variable_name": "correlation",
              "summary": "{\n  \"name\": \"correlation\",\n  \"rows\": 4,\n  \"fields\": [\n    {\n      \"column\": \"Miles Traveled\",\n      \"properties\": {\n        \"dtype\": \"number\",\n        \"std\": 0.3042222335678165,\n        \"min\": 0.35579623354708545,\n        \"max\": 1.0,\n        \"num_unique_values\": 4,\n        \"samples\": [\n          0.9558982066200346,\n          0.9281785008874762,\n          1.0\n        ],\n        \"semantic_type\": \"\",\n        \"description\": \"\"\n      }\n    },\n    {\n      \"column\": \"Number of Deliveries\",\n      \"properties\": {\n        \"dtype\": \"number\",\n        \"std\": 0.23212525432356396,\n        \"min\": 0.49824216474016353,\n        \"max\": 1.0,\n        \"num_unique_values\": 4,\n        \"samples\": [\n          1.0,\n          0.916443396447027,\n          0.9558982066200346\n        ],\n        \"semantic_type\": \"\",\n        \"description\": \"\"\n      }\n    },\n    {\n      \"column\": \"Gas Price\",\n      \"properties\": {\n        \"dtype\": \"number\",\n        \"std\": 0.3272679336543328,\n        \"min\": 0.2672115310193848,\n        \"max\": 1.0,\n        \"num_unique_values\": 4,\n        \"samples\": [\n          0.49824216474016353,\n          0.2672115310193848,\n          0.35579623354708545\n        ],\n        \"semantic_type\": \"\",\n        \"description\": \"\"\n      }\n    },\n    {\n      \"column\": \"Travel Time\",\n      \"properties\": {\n        \"dtype\": \"number\",\n        \"std\": 0.3424952599456091,\n        \"min\": 0.2672115310193848,\n        \"max\": 1.0,\n        \"num_unique_values\": 4,\n        \"samples\": [\n          0.916443396447027,\n          1.0,\n          0.9281785008874762\n        ],\n        \"semantic_type\": \"\",\n        \"description\": \"\"\n      }\n    }\n  ]\n}"
            }
          },
          "metadata": {},
          "execution_count": 70
        }
      ],
      "source": [
        "correlation = df.corr()\n",
        "correlation"
      ]
    },
    {
      "cell_type": "markdown",
      "source": [
        "15. Create a correlation matrix"
      ],
      "metadata": {
        "id": "OCcEP5K6dRib"
      }
    },
    {
      "cell_type": "code",
      "execution_count": 71,
      "metadata": {
        "id": "L-DI2aktPQSS",
        "colab": {
          "base_uri": "https://localhost:8080/",
          "height": 737
        },
        "outputId": "0b85348b-382f-4b6a-dcce-5534223bd7cb"
      },
      "outputs": [
        {
          "output_type": "execute_result",
          "data": {
            "text/plain": [
              "<function matplotlib.pyplot.show(close=None, block=None)>"
            ],
            "text/html": [
              "<div style=\"max-width:800px; border: 1px solid var(--colab-border-color);\"><style>\n",
              "      pre.function-repr-contents {\n",
              "        overflow-x: auto;\n",
              "        padding: 8px 12px;\n",
              "        max-height: 500px;\n",
              "      }\n",
              "\n",
              "      pre.function-repr-contents.function-repr-contents-collapsed {\n",
              "        cursor: pointer;\n",
              "        max-height: 100px;\n",
              "      }\n",
              "    </style>\n",
              "    <pre style=\"white-space: initial; background:\n",
              "         var(--colab-secondary-surface-color); padding: 8px 12px;\n",
              "         border-bottom: 1px solid var(--colab-border-color);\"><b>matplotlib.pyplot.show</b><br/>def show(*args, **kwargs)</pre><pre class=\"function-repr-contents function-repr-contents-collapsed\" style=\"\"><a class=\"filepath\" style=\"display:none\" href=\"#\">/usr/local/lib/python3.10/dist-packages/matplotlib/pyplot.py</a>Display all open figures.\n",
              "\n",
              "Parameters\n",
              "----------\n",
              "block : bool, optional\n",
              "    Whether to wait for all figures to be closed before returning.\n",
              "\n",
              "    If `True` block and run the GUI main loop until all figure windows\n",
              "    are closed.\n",
              "\n",
              "    If `False` ensure that all figure windows are displayed and return\n",
              "    immediately.  In this case, you are responsible for ensuring\n",
              "    that the event loop is running to have responsive figures.\n",
              "\n",
              "    Defaults to True in non-interactive mode and to False in interactive\n",
              "    mode (see `.pyplot.isinteractive`).\n",
              "\n",
              "See Also\n",
              "--------\n",
              "ion : Enable interactive mode, which shows / updates the figure after\n",
              "      every plotting command, so that calling ``show()`` is not necessary.\n",
              "ioff : Disable interactive mode.\n",
              "savefig : Save the figure to an image file instead of showing it on screen.\n",
              "\n",
              "Notes\n",
              "-----\n",
              "**Saving figures to file and showing a window at the same time**\n",
              "\n",
              "If you want an image file as well as a user interface window, use\n",
              "`.pyplot.savefig` before `.pyplot.show`. At the end of (a blocking)\n",
              "``show()`` the figure is closed and thus unregistered from pyplot. Calling\n",
              "`.pyplot.savefig` afterwards would save a new and thus empty figure. This\n",
              "limitation of command order does not apply if the show is non-blocking or\n",
              "if you keep a reference to the figure and use `.Figure.savefig`.\n",
              "\n",
              "**Auto-show in jupyter notebooks**\n",
              "\n",
              "The jupyter backends (activated via ``%matplotlib inline``,\n",
              "``%matplotlib notebook``, or ``%matplotlib widget``), call ``show()`` at\n",
              "the end of every cell by default. Thus, you usually don&#x27;t have to call it\n",
              "explicitly there.</pre>\n",
              "      <script>\n",
              "      if (google.colab.kernel.accessAllowed && google.colab.files && google.colab.files.view) {\n",
              "        for (const element of document.querySelectorAll('.filepath')) {\n",
              "          element.style.display = 'block'\n",
              "          element.onclick = (event) => {\n",
              "            event.preventDefault();\n",
              "            event.stopPropagation();\n",
              "            google.colab.files.view(element.textContent, 401);\n",
              "          };\n",
              "        }\n",
              "      }\n",
              "      for (const element of document.querySelectorAll('.function-repr-contents')) {\n",
              "        element.onclick = (event) => {\n",
              "          event.preventDefault();\n",
              "          event.stopPropagation();\n",
              "          element.classList.toggle('function-repr-contents-collapsed');\n",
              "        };\n",
              "      }\n",
              "      </script>\n",
              "      </div>"
            ]
          },
          "metadata": {},
          "execution_count": 71
        },
        {
          "output_type": "display_data",
          "data": {
            "text/plain": [
              "<Figure size 640x480 with 2 Axes>"
            ],
            "image/png": "[encoded data removed]"
          },
          "metadata": {}
        }
      ],
      "source": [
        "sns.heatmap(correlation, annot=True, vmin=-1, vmax=1, center=0)\n",
        "plt.show"
      ]
    },
    {
      "cell_type": "markdown",
      "metadata": {
        "id": "yYiArptLfGIV"
      },
      "source": [
        "## Building Different Regression Models"
      ]
    },
    {
      "cell_type": "markdown",
      "metadata": {
        "id": "NJ4wex8RjsK2"
      },
      "source": [
        "### Model 1: Miles Traveled and Travel Time"
      ]
    },
    {
      "cell_type": "markdown",
      "source": [
        "16. Set independent and dependent variables"
      ],
      "metadata": {
        "id": "nl_sTh3Hd74j"
      }
    },
    {
      "cell_type": "code",
      "execution_count": 72,
      "metadata": {
        "id": "hQWfifH-fpKT"
      },
      "outputs": [],
      "source": [
        "X = df[['Miles Traveled']]\n",
        "X = sm.add_constant(X)\n",
        "y = df['Travel Time']"
      ]
    },
    {
      "cell_type": "markdown",
      "source": [
        "17. Build and train the model"
      ],
      "metadata": {
        "id": "xErHUNUCeEy5"
      }
    },
    {
      "cell_type": "code",
      "execution_count": 74,
      "metadata": {
        "id": "8Z5ntKuxlYRY",
        "colab": {
          "base_uri": "https://localhost:8080/"
        },
        "outputId": "a0cca958-5d6c-4e26-d76b-7e3602950e58"
      },
      "outputs": [
        {
          "output_type": "stream",
          "name": "stdout",
          "text": [
            "Intercept:  3.1855602489995554\n",
            "Coefficients:  [0.         0.04025678]\n"
          ]
        }
      ],
      "source": [
        "mlr_model = LinearRegression() #initialize model from sklearn and fit to data\n",
        "\n",
        "mlr_model.fit(X, y) #train model\n",
        "\n",
        "#test model using same input data\n",
        "y_pred = mlr_model.predict(X)\n",
        "print('Intercept: ', mlr_model.intercept_)\n",
        "print('Coefficients: ', mlr_model.coef_)"
      ]
    },
    {
      "cell_type": "markdown",
      "source": [
        "18. Display the statistical summary"
      ],
      "metadata": {
        "id": "WHoGr0cIeLtw"
      }
    },
    {
      "cell_type": "code",
      "execution_count": 76,
      "metadata": {
        "id": "EfMmKYwghZCl",
        "colab": {
          "base_uri": "https://localhost:8080/",
          "height": 500
        },
        "outputId": "444de7b7-6383-4578-d6d7-47d21255f1f5"
      },
      "outputs": [
        {
          "output_type": "stream",
          "name": "stderr",
          "text": [
            "/usr/local/lib/python3.10/dist-packages/scipy/stats/_axis_nan_policy.py:531: UserWarning: kurtosistest only valid for n>=20 ... continuing anyway, n=10\n",
            "  res = hypotest_fun_out(*samples, **kwds)\n"
          ]
        },
        {
          "output_type": "execute_result",
          "data": {
            "text/plain": [
              "<class 'statsmodels.iolib.summary.Summary'>\n",
              "\"\"\"\n",
              "                            OLS Regression Results                            \n",
              "==============================================================================\n",
              "Dep. Variable:            Travel Time   R-squared:                       0.862\n",
              "Model:                            OLS   Adj. R-squared:                  0.844\n",
              "Method:                 Least Squares   F-statistic:                     49.77\n",
              "Date:                Fri, 06 Sep 2024   Prob (F-statistic):           0.000107\n",
              "Time:                        09:21:40   Log-Likelihood:                -2.3532\n",
              "No. Observations:                  10   AIC:                             8.706\n",
              "Df Residuals:                       8   BIC:                             9.312\n",
              "Df Model:                           1                                         \n",
              "Covariance Type:            nonrobust                                         \n",
              "==================================================================================\n",
              "                     coef    std err          t      P>|t|      [0.025      0.975]\n",
              "----------------------------------------------------------------------------------\n",
              "const              3.1856      0.467      6.822      0.000       2.109       4.262\n",
              "Miles Traveled     0.0403      0.006      7.055      0.000       0.027       0.053\n",
              "==============================================================================\n",
              "Omnibus:                        0.542   Durbin-Watson:                   2.608\n",
              "Prob(Omnibus):                  0.763   Jarque-Bera (JB):                0.554\n",
              "Skew:                           0.370   Prob(JB):                        0.758\n",
              "Kurtosis:                       2.115   Cond. No.                         353.\n",
              "==============================================================================\n",
              "\n",
              "Notes:\n",
              "[1] Standard Errors assume that the covariance matrix of the errors is correctly specified.\n",
              "\"\"\""
            ],
            "text/html": [
              "<table class=\"simpletable\">\n",
              "<caption>OLS Regression Results</caption>\n",
              "<tr>\n",
              "  <th>Dep. Variable:</th>       <td>Travel Time</td>   <th>  R-squared:         </th> <td>   0.862</td>\n",
              "</tr>\n",
              "<tr>\n",
              "  <th>Model:</th>                   <td>OLS</td>       <th>  Adj. R-squared:    </th> <td>   0.844</td>\n",
              "</tr>\n",
              "<tr>\n",
              "  <th>Method:</th>             <td>Least Squares</td>  <th>  F-statistic:       </th> <td>   49.77</td>\n",
              "</tr>\n",
              "<tr>\n",
              "  <th>Date:</th>             <td>Fri, 06 Sep 2024</td> <th>  Prob (F-statistic):</th> <td>0.000107</td>\n",
              "</tr>\n",
              "<tr>\n",
              "  <th>Time:</th>                 <td>09:21:40</td>     <th>  Log-Likelihood:    </th> <td> -2.3532</td>\n",
              "</tr>\n",
              "<tr>\n",
              "  <th>No. Observations:</th>      <td>    10</td>      <th>  AIC:               </th> <td>   8.706</td>\n",
              "</tr>\n",
              "<tr>\n",
              "  <th>Df Residuals:</th>          <td>     8</td>      <th>  BIC:               </th> <td>   9.312</td>\n",
              "</tr>\n",
              "<tr>\n",
              "  <th>Df Model:</th>              <td>     1</td>      <th>                     </th>     <td> </td>   \n",
              "</tr>\n",
              "<tr>\n",
              "  <th>Covariance Type:</th>      <td>nonrobust</td>    <th>                     </th>     <td> </td>   \n",
              "</tr>\n",
              "</table>\n",
              "<table class=\"simpletable\">\n",
              "<tr>\n",
              "         <td></td>           <th>coef</th>     <th>std err</th>      <th>t</th>      <th>P>|t|</th>  <th>[0.025</th>    <th>0.975]</th>  \n",
              "</tr>\n",
              "<tr>\n",
              "  <th>const</th>          <td>    3.1856</td> <td>    0.467</td> <td>    6.822</td> <td> 0.000</td> <td>    2.109</td> <td>    4.262</td>\n",
              "</tr>\n",
              "<tr>\n",
              "  <th>Miles Traveled</th> <td>    0.0403</td> <td>    0.006</td> <td>    7.055</td> <td> 0.000</td> <td>    0.027</td> <td>    0.053</td>\n",
              "</tr>\n",
              "</table>\n",
              "<table class=\"simpletable\">\n",
              "<tr>\n",
              "  <th>Omnibus:</th>       <td> 0.542</td> <th>  Durbin-Watson:     </th> <td>   2.608</td>\n",
              "</tr>\n",
              "<tr>\n",
              "  <th>Prob(Omnibus):</th> <td> 0.763</td> <th>  Jarque-Bera (JB):  </th> <td>   0.554</td>\n",
              "</tr>\n",
              "<tr>\n",
              "  <th>Skew:</th>          <td> 0.370</td> <th>  Prob(JB):          </th> <td>   0.758</td>\n",
              "</tr>\n",
              "<tr>\n",
              "  <th>Kurtosis:</th>      <td> 2.115</td> <th>  Cond. No.          </th> <td>    353.</td>\n",
              "</tr>\n",
              "</table><br/><br/>Notes:<br/>[1] Standard Errors assume that the covariance matrix of the errors is correctly specified."
            ],
            "text/latex": "\\begin{center}\n\\begin{tabular}{lclc}\n\\toprule\n\\textbf{Dep. Variable:}    &   Travel Time    & \\textbf{  R-squared:         } &     0.862   \\\\\n\\textbf{Model:}            &       OLS        & \\textbf{  Adj. R-squared:    } &     0.844   \\\\\n\\textbf{Method:}           &  Least Squares   & \\textbf{  F-statistic:       } &     49.77   \\\\\n\\textbf{Date:}             & Fri, 06 Sep 2024 & \\textbf{  Prob (F-statistic):} &  0.000107   \\\\\n\\textbf{Time:}             &     09:21:40     & \\textbf{  Log-Likelihood:    } &   -2.3532   \\\\\n\\textbf{No. Observations:} &          10      & \\textbf{  AIC:               } &     8.706   \\\\\n\\textbf{Df Residuals:}     &           8      & \\textbf{  BIC:               } &     9.312   \\\\\n\\textbf{Df Model:}         &           1      & \\textbf{                     } &             \\\\\n\\textbf{Covariance Type:}  &    nonrobust     & \\textbf{                     } &             \\\\\n\\bottomrule\n\\end{tabular}\n\\begin{tabular}{lcccccc}\n                        & \\textbf{coef} & \\textbf{std err} & \\textbf{t} & \\textbf{P$> |$t$|$} & \\textbf{[0.025} & \\textbf{0.975]}  \\\\\n\\midrule\n\\textbf{const}          &       3.1856  &        0.467     &     6.822  &         0.000        &        2.109    &        4.262     \\\\\n\\textbf{Miles Traveled} &       0.0403  &        0.006     &     7.055  &         0.000        &        0.027    &        0.053     \\\\\n\\bottomrule\n\\end{tabular}\n\\begin{tabular}{lclc}\n\\textbf{Omnibus:}       &  0.542 & \\textbf{  Durbin-Watson:     } &    2.608  \\\\\n\\textbf{Prob(Omnibus):} &  0.763 & \\textbf{  Jarque-Bera (JB):  } &    0.554  \\\\\n\\textbf{Skew:}          &  0.370 & \\textbf{  Prob(JB):          } &    0.758  \\\\\n\\textbf{Kurtosis:}      &  2.115 & \\textbf{  Cond. No.          } &     353.  \\\\\n\\bottomrule\n\\end{tabular}\n%\\caption{OLS Regression Results}\n\\end{center}\n\nNotes: \\newline\n [1] Standard Errors assume that the covariance matrix of the errors is correctly specified."
          },
          "metadata": {},
          "execution_count": 76
        }
      ],
      "source": [
        "olsmod = sm.OLS(y, X).fit()\n",
        "olsmod.summary()"
      ]
    },
    {
      "cell_type": "markdown",
      "source": [
        "19. Display the r-squared (0 to 1, closer to 1 = good model)"
      ],
      "metadata": {
        "id": "gvoD9c8co2vh"
      }
    },
    {
      "cell_type": "code",
      "execution_count": 77,
      "metadata": {
        "id": "sZ8sTmV8hv3P",
        "colab": {
          "base_uri": "https://localhost:8080/"
        },
        "outputId": "d0f14cb1-6e83-426c-c6f4-c66490084125"
      },
      "outputs": [
        {
          "output_type": "stream",
          "name": "stdout",
          "text": [
            "0.8615153295097224\n"
          ]
        }
      ],
      "source": [
        "print(olsmod.rsquared)"
      ]
    },
    {
      "cell_type": "markdown",
      "source": [
        "##scratch test models (no. of del & travel time)\n"
      ],
      "metadata": {
        "id": "QmWgI051p2nC"
      }
    },
    {
      "cell_type": "code",
      "source": [
        "X = df[['Number of Deliveries']]\n",
        "X = sm.add_constant(X)\n",
        "y = df['Travel Time']"
      ],
      "metadata": {
        "id": "qhe6V8UFqJoX"
      },
      "execution_count": 92,
      "outputs": []
    },
    {
      "cell_type": "code",
      "source": [
        "mlr_model = LinearRegression() #initialize model from sklearn and fit to data\n",
        "\n",
        "mlr_model.fit(X, y) #train model\n",
        "\n",
        "#test model using same input data\n",
        "y_pred = mlr_model.predict(X)\n",
        "print('Intercept: ', mlr_model.intercept_)\n",
        "print('Coefficients: ', mlr_model.coef_)"
      ],
      "metadata": {
        "colab": {
          "base_uri": "https://localhost:8080/"
        },
        "id": "kpwG6PuFrP69",
        "outputId": "84b8fb62-ac5d-4fe4-f50a-1559db2c0027"
      },
      "execution_count": 93,
      "outputs": [
        {
          "output_type": "stream",
          "name": "stdout",
          "text": [
            "Intercept:  4.84541484716157\n",
            "Coefficients:  [0.         0.49825328]\n"
          ]
        }
      ]
    },
    {
      "cell_type": "code",
      "source": [
        "olsmod = sm.OLS(y, X).fit()\n",
        "olsmod.summary()"
      ],
      "metadata": {
        "colab": {
          "base_uri": "https://localhost:8080/",
          "height": 500
        },
        "id": "mqdZBsPOrPsg",
        "outputId": "96267a54-9689-4cde-a76a-1164a3a15b90"
      },
      "execution_count": 94,
      "outputs": [
        {
          "output_type": "stream",
          "name": "stderr",
          "text": [
            "/usr/local/lib/python3.10/dist-packages/scipy/stats/_axis_nan_policy.py:531: UserWarning: kurtosistest only valid for n>=20 ... continuing anyway, n=10\n",
            "  res = hypotest_fun_out(*samples, **kwds)\n"
          ]
        },
        {
          "output_type": "execute_result",
          "data": {
            "text/plain": [
              "<class 'statsmodels.iolib.summary.Summary'>\n",
              "\"\"\"\n",
              "                            OLS Regression Results                            \n",
              "==============================================================================\n",
              "Dep. Variable:            Travel Time   R-squared:                       0.840\n",
              "Model:                            OLS   Adj. R-squared:                  0.820\n",
              "Method:                 Least Squares   F-statistic:                     41.96\n",
              "Date:                Fri, 06 Sep 2024   Prob (F-statistic):           0.000193\n",
              "Time:                        09:32:20   Log-Likelihood:                -3.0794\n",
              "No. Observations:                  10   AIC:                             10.16\n",
              "Df Residuals:                       8   BIC:                             10.76\n",
              "Df Model:                           1                                         \n",
              "Covariance Type:            nonrobust                                         \n",
              "========================================================================================\n",
              "                           coef    std err          t      P>|t|      [0.025      0.975]\n",
              "----------------------------------------------------------------------------------------\n",
              "const                    4.8454      0.265     18.261      0.000       4.234       5.457\n",
              "Number of Deliveries     0.4983      0.077      6.478      0.000       0.321       0.676\n",
              "==============================================================================\n",
              "Omnibus:                        0.391   Durbin-Watson:                   1.970\n",
              "Prob(Omnibus):                  0.822   Jarque-Bera (JB):                0.065\n",
              "Skew:                           0.147   Prob(JB):                        0.968\n",
              "Kurtosis:                       2.736   Cond. No.                         8.41\n",
              "==============================================================================\n",
              "\n",
              "Notes:\n",
              "[1] Standard Errors assume that the covariance matrix of the errors is correctly specified.\n",
              "\"\"\""
            ],
            "text/html": [
              "<table class=\"simpletable\">\n",
              "<caption>OLS Regression Results</caption>\n",
              "<tr>\n",
              "  <th>Dep. Variable:</th>       <td>Travel Time</td>   <th>  R-squared:         </th> <td>   0.840</td>\n",
              "</tr>\n",
              "<tr>\n",
              "  <th>Model:</th>                   <td>OLS</td>       <th>  Adj. R-squared:    </th> <td>   0.820</td>\n",
              "</tr>\n",
              "<tr>\n",
              "  <th>Method:</th>             <td>Least Squares</td>  <th>  F-statistic:       </th> <td>   41.96</td>\n",
              "</tr>\n",
              "<tr>\n",
              "  <th>Date:</th>             <td>Fri, 06 Sep 2024</td> <th>  Prob (F-statistic):</th> <td>0.000193</td>\n",
              "</tr>\n",
              "<tr>\n",
              "  <th>Time:</th>                 <td>09:32:20</td>     <th>  Log-Likelihood:    </th> <td> -3.0794</td>\n",
              "</tr>\n",
              "<tr>\n",
              "  <th>No. Observations:</th>      <td>    10</td>      <th>  AIC:               </th> <td>   10.16</td>\n",
              "</tr>\n",
              "<tr>\n",
              "  <th>Df Residuals:</th>          <td>     8</td>      <th>  BIC:               </th> <td>   10.76</td>\n",
              "</tr>\n",
              "<tr>\n",
              "  <th>Df Model:</th>              <td>     1</td>      <th>                     </th>     <td> </td>   \n",
              "</tr>\n",
              "<tr>\n",
              "  <th>Covariance Type:</th>      <td>nonrobust</td>    <th>                     </th>     <td> </td>   \n",
              "</tr>\n",
              "</table>\n",
              "<table class=\"simpletable\">\n",
              "<tr>\n",
              "            <td></td>              <th>coef</th>     <th>std err</th>      <th>t</th>      <th>P>|t|</th>  <th>[0.025</th>    <th>0.975]</th>  \n",
              "</tr>\n",
              "<tr>\n",
              "  <th>const</th>                <td>    4.8454</td> <td>    0.265</td> <td>   18.261</td> <td> 0.000</td> <td>    4.234</td> <td>    5.457</td>\n",
              "</tr>\n",
              "<tr>\n",
              "  <th>Number of Deliveries</th> <td>    0.4983</td> <td>    0.077</td> <td>    6.478</td> <td> 0.000</td> <td>    0.321</td> <td>    0.676</td>\n",
              "</tr>\n",
              "</table>\n",
              "<table class=\"simpletable\">\n",
              "<tr>\n",
              "  <th>Omnibus:</th>       <td> 0.391</td> <th>  Durbin-Watson:     </th> <td>   1.970</td>\n",
              "</tr>\n",
              "<tr>\n",
              "  <th>Prob(Omnibus):</th> <td> 0.822</td> <th>  Jarque-Bera (JB):  </th> <td>   0.065</td>\n",
              "</tr>\n",
              "<tr>\n",
              "  <th>Skew:</th>          <td> 0.147</td> <th>  Prob(JB):          </th> <td>   0.968</td>\n",
              "</tr>\n",
              "<tr>\n",
              "  <th>Kurtosis:</th>      <td> 2.736</td> <th>  Cond. No.          </th> <td>    8.41</td>\n",
              "</tr>\n",
              "</table><br/><br/>Notes:<br/>[1] Standard Errors assume that the covariance matrix of the errors is correctly specified."
            ],
            "text/latex": "\\begin{center}\n\\begin{tabular}{lclc}\n\\toprule\n\\textbf{Dep. Variable:}       &   Travel Time    & \\textbf{  R-squared:         } &     0.840   \\\\\n\\textbf{Model:}               &       OLS        & \\textbf{  Adj. R-squared:    } &     0.820   \\\\\n\\textbf{Method:}              &  Least Squares   & \\textbf{  F-statistic:       } &     41.96   \\\\\n\\textbf{Date:}                & Fri, 06 Sep 2024 & \\textbf{  Prob (F-statistic):} &  0.000193   \\\\\n\\textbf{Time:}                &     09:32:20     & \\textbf{  Log-Likelihood:    } &   -3.0794   \\\\\n\\textbf{No. Observations:}    &          10      & \\textbf{  AIC:               } &     10.16   \\\\\n\\textbf{Df Residuals:}        &           8      & \\textbf{  BIC:               } &     10.76   \\\\\n\\textbf{Df Model:}            &           1      & \\textbf{                     } &             \\\\\n\\textbf{Covariance Type:}     &    nonrobust     & \\textbf{                     } &             \\\\\n\\bottomrule\n\\end{tabular}\n\\begin{tabular}{lcccccc}\n                              & \\textbf{coef} & \\textbf{std err} & \\textbf{t} & \\textbf{P$> |$t$|$} & \\textbf{[0.025} & \\textbf{0.975]}  \\\\\n\\midrule\n\\textbf{const}                &       4.8454  &        0.265     &    18.261  &         0.000        &        4.234    &        5.457     \\\\\n\\textbf{Number of Deliveries} &       0.4983  &        0.077     &     6.478  &         0.000        &        0.321    &        0.676     \\\\\n\\bottomrule\n\\end{tabular}\n\\begin{tabular}{lclc}\n\\textbf{Omnibus:}       &  0.391 & \\textbf{  Durbin-Watson:     } &    1.970  \\\\\n\\textbf{Prob(Omnibus):} &  0.822 & \\textbf{  Jarque-Bera (JB):  } &    0.065  \\\\\n\\textbf{Skew:}          &  0.147 & \\textbf{  Prob(JB):          } &    0.968  \\\\\n\\textbf{Kurtosis:}      &  2.736 & \\textbf{  Cond. No.          } &     8.41  \\\\\n\\bottomrule\n\\end{tabular}\n%\\caption{OLS Regression Results}\n\\end{center}\n\nNotes: \\newline\n [1] Standard Errors assume that the covariance matrix of the errors is correctly specified."
          },
          "metadata": {},
          "execution_count": 94
        }
      ]
    },
    {
      "cell_type": "code",
      "source": [
        "print(olsmod.rsquared)"
      ],
      "metadata": {
        "colab": {
          "base_uri": "https://localhost:8080/"
        },
        "id": "bc8CNYtTrHVd",
        "outputId": "57e56164-d71c-4974-b963-c24db4d15b0d"
      },
      "execution_count": 95,
      "outputs": [
        {
          "output_type": "stream",
          "name": "stdout",
          "text": [
            "0.8398684988913625\n"
          ]
        }
      ]
    },
    {
      "cell_type": "markdown",
      "source": [
        "##scratch test models (gas price & travel time)\n"
      ],
      "metadata": {
        "id": "ybcANSQBrBfO"
      }
    },
    {
      "cell_type": "code",
      "source": [
        "X = df[['Gas Price']]\n",
        "X = sm.add_constant(X)\n",
        "y = df['Travel Time']"
      ],
      "metadata": {
        "id": "TPYoinHJqKMa"
      },
      "execution_count": 96,
      "outputs": []
    },
    {
      "cell_type": "code",
      "source": [
        "mlr_model = LinearRegression() #initialize model from sklearn and fit to data\n",
        "\n",
        "mlr_model.fit(X, y) #train model\n",
        "\n",
        "#test model using same input data\n",
        "y_pred = mlr_model.predict(X)\n",
        "print('Intercept: ', mlr_model.intercept_)\n",
        "print('Coefficients: ', mlr_model.coef_)"
      ],
      "metadata": {
        "colab": {
          "base_uri": "https://localhost:8080/"
        },
        "id": "FPkdk4skrbo2",
        "outputId": "53d146a9-0bbd-423d-c46f-ed8ef32940ad"
      },
      "execution_count": 97,
      "outputs": [
        {
          "output_type": "stream",
          "name": "stdout",
          "text": [
            "Intercept:  3.536488198199421\n",
            "Coefficients:  [0.         0.81134825]\n"
          ]
        }
      ]
    },
    {
      "cell_type": "code",
      "source": [
        "olsmod = sm.OLS(y, X).fit()\n",
        "olsmod.summary()"
      ],
      "metadata": {
        "colab": {
          "base_uri": "https://localhost:8080/",
          "height": 500
        },
        "id": "Tzo1QJgmrbiH",
        "outputId": "ba596ab0-c216-467a-edc3-0305b97282d4"
      },
      "execution_count": 98,
      "outputs": [
        {
          "output_type": "stream",
          "name": "stderr",
          "text": [
            "/usr/local/lib/python3.10/dist-packages/scipy/stats/_axis_nan_policy.py:531: UserWarning: kurtosistest only valid for n>=20 ... continuing anyway, n=10\n",
            "  res = hypotest_fun_out(*samples, **kwds)\n"
          ]
        },
        {
          "output_type": "execute_result",
          "data": {
            "text/plain": [
              "<class 'statsmodels.iolib.summary.Summary'>\n",
              "\"\"\"\n",
              "                            OLS Regression Results                            \n",
              "==============================================================================\n",
              "Dep. Variable:            Travel Time   R-squared:                       0.071\n",
              "Model:                            OLS   Adj. R-squared:                 -0.045\n",
              "Method:                 Least Squares   F-statistic:                    0.6151\n",
              "Date:                Fri, 06 Sep 2024   Prob (F-statistic):              0.455\n",
              "Time:                        09:33:15   Log-Likelihood:                -11.868\n",
              "No. Observations:                  10   AIC:                             27.74\n",
              "Df Residuals:                       8   BIC:                             28.34\n",
              "Df Model:                           1                                         \n",
              "Covariance Type:            nonrobust                                         \n",
              "==============================================================================\n",
              "                 coef    std err          t      P>|t|      [0.025      0.975]\n",
              "------------------------------------------------------------------------------\n",
              "const          3.5365      3.649      0.969      0.361      -4.878      11.951\n",
              "Gas Price      0.8113      1.034      0.784      0.455      -1.574       3.197\n",
              "==============================================================================\n",
              "Omnibus:                        1.232   Durbin-Watson:                   2.823\n",
              "Prob(Omnibus):                  0.540   Jarque-Bera (JB):                0.765\n",
              "Skew:                          -0.619   Prob(JB):                        0.682\n",
              "Kurtosis:                       2.451   Cond. No.                         49.6\n",
              "==============================================================================\n",
              "\n",
              "Notes:\n",
              "[1] Standard Errors assume that the covariance matrix of the errors is correctly specified.\n",
              "\"\"\""
            ],
            "text/html": [
              "<table class=\"simpletable\">\n",
              "<caption>OLS Regression Results</caption>\n",
              "<tr>\n",
              "  <th>Dep. Variable:</th>       <td>Travel Time</td>   <th>  R-squared:         </th> <td>   0.071</td>\n",
              "</tr>\n",
              "<tr>\n",
              "  <th>Model:</th>                   <td>OLS</td>       <th>  Adj. R-squared:    </th> <td>  -0.045</td>\n",
              "</tr>\n",
              "<tr>\n",
              "  <th>Method:</th>             <td>Least Squares</td>  <th>  F-statistic:       </th> <td>  0.6151</td>\n",
              "</tr>\n",
              "<tr>\n",
              "  <th>Date:</th>             <td>Fri, 06 Sep 2024</td> <th>  Prob (F-statistic):</th>  <td> 0.455</td> \n",
              "</tr>\n",
              "<tr>\n",
              "  <th>Time:</th>                 <td>09:33:15</td>     <th>  Log-Likelihood:    </th> <td> -11.868</td>\n",
              "</tr>\n",
              "<tr>\n",
              "  <th>No. Observations:</th>      <td>    10</td>      <th>  AIC:               </th> <td>   27.74</td>\n",
              "</tr>\n",
              "<tr>\n",
              "  <th>Df Residuals:</th>          <td>     8</td>      <th>  BIC:               </th> <td>   28.34</td>\n",
              "</tr>\n",
              "<tr>\n",
              "  <th>Df Model:</th>              <td>     1</td>      <th>                     </th>     <td> </td>   \n",
              "</tr>\n",
              "<tr>\n",
              "  <th>Covariance Type:</th>      <td>nonrobust</td>    <th>                     </th>     <td> </td>   \n",
              "</tr>\n",
              "</table>\n",
              "<table class=\"simpletable\">\n",
              "<tr>\n",
              "      <td></td>         <th>coef</th>     <th>std err</th>      <th>t</th>      <th>P>|t|</th>  <th>[0.025</th>    <th>0.975]</th>  \n",
              "</tr>\n",
              "<tr>\n",
              "  <th>const</th>     <td>    3.5365</td> <td>    3.649</td> <td>    0.969</td> <td> 0.361</td> <td>   -4.878</td> <td>   11.951</td>\n",
              "</tr>\n",
              "<tr>\n",
              "  <th>Gas Price</th> <td>    0.8113</td> <td>    1.034</td> <td>    0.784</td> <td> 0.455</td> <td>   -1.574</td> <td>    3.197</td>\n",
              "</tr>\n",
              "</table>\n",
              "<table class=\"simpletable\">\n",
              "<tr>\n",
              "  <th>Omnibus:</th>       <td> 1.232</td> <th>  Durbin-Watson:     </th> <td>   2.823</td>\n",
              "</tr>\n",
              "<tr>\n",
              "  <th>Prob(Omnibus):</th> <td> 0.540</td> <th>  Jarque-Bera (JB):  </th> <td>   0.765</td>\n",
              "</tr>\n",
              "<tr>\n",
              "  <th>Skew:</th>          <td>-0.619</td> <th>  Prob(JB):          </th> <td>   0.682</td>\n",
              "</tr>\n",
              "<tr>\n",
              "  <th>Kurtosis:</th>      <td> 2.451</td> <th>  Cond. No.          </th> <td>    49.6</td>\n",
              "</tr>\n",
              "</table><br/><br/>Notes:<br/>[1] Standard Errors assume that the covariance matrix of the errors is correctly specified."
            ],
            "text/latex": "\\begin{center}\n\\begin{tabular}{lclc}\n\\toprule\n\\textbf{Dep. Variable:}    &   Travel Time    & \\textbf{  R-squared:         } &     0.071   \\\\\n\\textbf{Model:}            &       OLS        & \\textbf{  Adj. R-squared:    } &    -0.045   \\\\\n\\textbf{Method:}           &  Least Squares   & \\textbf{  F-statistic:       } &    0.6151   \\\\\n\\textbf{Date:}             & Fri, 06 Sep 2024 & \\textbf{  Prob (F-statistic):} &    0.455    \\\\\n\\textbf{Time:}             &     09:33:15     & \\textbf{  Log-Likelihood:    } &   -11.868   \\\\\n\\textbf{No. Observations:} &          10      & \\textbf{  AIC:               } &     27.74   \\\\\n\\textbf{Df Residuals:}     &           8      & \\textbf{  BIC:               } &     28.34   \\\\\n\\textbf{Df Model:}         &           1      & \\textbf{                     } &             \\\\\n\\textbf{Covariance Type:}  &    nonrobust     & \\textbf{                     } &             \\\\\n\\bottomrule\n\\end{tabular}\n\\begin{tabular}{lcccccc}\n                   & \\textbf{coef} & \\textbf{std err} & \\textbf{t} & \\textbf{P$> |$t$|$} & \\textbf{[0.025} & \\textbf{0.975]}  \\\\\n\\midrule\n\\textbf{const}     &       3.5365  &        3.649     &     0.969  &         0.361        &       -4.878    &       11.951     \\\\\n\\textbf{Gas Price} &       0.8113  &        1.034     &     0.784  &         0.455        &       -1.574    &        3.197     \\\\\n\\bottomrule\n\\end{tabular}\n\\begin{tabular}{lclc}\n\\textbf{Omnibus:}       &  1.232 & \\textbf{  Durbin-Watson:     } &    2.823  \\\\\n\\textbf{Prob(Omnibus):} &  0.540 & \\textbf{  Jarque-Bera (JB):  } &    0.765  \\\\\n\\textbf{Skew:}          & -0.619 & \\textbf{  Prob(JB):          } &    0.682  \\\\\n\\textbf{Kurtosis:}      &  2.451 & \\textbf{  Cond. No.          } &     49.6  \\\\\n\\bottomrule\n\\end{tabular}\n%\\caption{OLS Regression Results}\n\\end{center}\n\nNotes: \\newline\n [1] Standard Errors assume that the covariance matrix of the errors is correctly specified."
          },
          "metadata": {},
          "execution_count": 98
        }
      ]
    },
    {
      "cell_type": "code",
      "source": [
        "print(olsmod.rsquared)"
      ],
      "metadata": {
        "colab": {
          "base_uri": "https://localhost:8080/"
        },
        "id": "fmtk_C6GrbaX",
        "outputId": "34ee924d-affe-46cb-811c-eba7a8c18bc5"
      },
      "execution_count": 100,
      "outputs": [
        {
          "output_type": "stream",
          "name": "stdout",
          "text": [
            "0.07140200230972338\n"
          ]
        }
      ]
    },
    {
      "cell_type": "markdown",
      "source": [
        "## 3 independent variables\n"
      ],
      "metadata": {
        "id": "e-6xc-rlsZ1l"
      }
    },
    {
      "cell_type": "code",
      "source": [
        "X = df[['Miles Traveled', 'Number of Deliveries', 'Gas Price']]\n",
        "X = sm.add_constant(X)\n",
        "y = df['Travel Time']"
      ],
      "metadata": {
        "id": "ZBzpIqUUsdkh"
      },
      "execution_count": 101,
      "outputs": []
    },
    {
      "cell_type": "code",
      "source": [
        "mlr_model = LinearRegression() #initialize model from sklearn and fit to data\n",
        "\n",
        "mlr_model.fit(X, y) #train model\n",
        "\n",
        "#test model using same input data\n",
        "y_pred = mlr_model.predict(X)\n",
        "print('Intercept: ', mlr_model.intercept_)\n",
        "print('Coefficients: ', mlr_model.coef_)"
      ],
      "metadata": {
        "colab": {
          "base_uri": "https://localhost:8080/"
        },
        "id": "hjILtaqBsnK7",
        "outputId": "63b46fc4-e605-4dbe-dbb0-65f161dbf04f"
      },
      "execution_count": 102,
      "outputs": [
        {
          "output_type": "stream",
          "name": "stdout",
          "text": [
            "Intercept:  6.211377663979402\n",
            "Coefficients:  [ 0.          0.01412189  0.38315024 -0.60655271]\n"
          ]
        }
      ]
    },
    {
      "cell_type": "code",
      "source": [
        "olsmod = sm.OLS(y, X).fit()\n",
        "olsmod.summary()"
      ],
      "metadata": {
        "colab": {
          "base_uri": "https://localhost:8080/",
          "height": 577
        },
        "id": "nXQZaBcmsnyU",
        "outputId": "18a1070b-5b65-4402-9552-3d23a001f86a"
      },
      "execution_count": 103,
      "outputs": [
        {
          "output_type": "stream",
          "name": "stderr",
          "text": [
            "/usr/local/lib/python3.10/dist-packages/scipy/stats/_axis_nan_policy.py:531: UserWarning: kurtosistest only valid for n>=20 ... continuing anyway, n=10\n",
            "  res = hypotest_fun_out(*samples, **kwds)\n"
          ]
        },
        {
          "output_type": "execute_result",
          "data": {
            "text/plain": [
              "<class 'statsmodels.iolib.summary.Summary'>\n",
              "\"\"\"\n",
              "                            OLS Regression Results                            \n",
              "==============================================================================\n",
              "Dep. Variable:            Travel Time   R-squared:                       0.895\n",
              "Model:                            OLS   Adj. R-squared:                  0.842\n",
              "Method:                 Least Squares   F-statistic:                     16.99\n",
              "Date:                Fri, 06 Sep 2024   Prob (F-statistic):            0.00245\n",
              "Time:                        09:38:11   Log-Likelihood:               -0.98426\n",
              "No. Observations:                  10   AIC:                             9.969\n",
              "Df Residuals:                       6   BIC:                             11.18\n",
              "Df Model:                           3                                         \n",
              "Covariance Type:            nonrobust                                         \n",
              "========================================================================================\n",
              "                           coef    std err          t      P>|t|      [0.025      0.975]\n",
              "----------------------------------------------------------------------------------------\n",
              "const                    6.2114      2.321      2.677      0.037       0.533      11.890\n",
              "Miles Traveled           0.0141      0.022      0.636      0.548      -0.040       0.068\n",
              "Number of Deliveries     0.3832      0.300      1.277      0.249      -0.351       1.117\n",
              "Gas Price               -0.6066      0.527     -1.152      0.293      -1.895       0.682\n",
              "==============================================================================\n",
              "Omnibus:                        2.874   Durbin-Watson:                   2.406\n",
              "Prob(Omnibus):                  0.238   Jarque-Bera (JB):                1.204\n",
              "Skew:                           0.457   Prob(JB):                        0.548\n",
              "Kurtosis:                       1.567   Cond. No.                     1.79e+03\n",
              "==============================================================================\n",
              "\n",
              "Notes:\n",
              "[1] Standard Errors assume that the covariance matrix of the errors is correctly specified.\n",
              "[2] The condition number is large, 1.79e+03. This might indicate that there are\n",
              "strong multicollinearity or other numerical problems.\n",
              "\"\"\""
            ],
            "text/html": [
              "<table class=\"simpletable\">\n",
              "<caption>OLS Regression Results</caption>\n",
              "<tr>\n",
              "  <th>Dep. Variable:</th>       <td>Travel Time</td>   <th>  R-squared:         </th> <td>   0.895</td>\n",
              "</tr>\n",
              "<tr>\n",
              "  <th>Model:</th>                   <td>OLS</td>       <th>  Adj. R-squared:    </th> <td>   0.842</td>\n",
              "</tr>\n",
              "<tr>\n",
              "  <th>Method:</th>             <td>Least Squares</td>  <th>  F-statistic:       </th> <td>   16.99</td>\n",
              "</tr>\n",
              "<tr>\n",
              "  <th>Date:</th>             <td>Fri, 06 Sep 2024</td> <th>  Prob (F-statistic):</th>  <td>0.00245</td>\n",
              "</tr>\n",
              "<tr>\n",
              "  <th>Time:</th>                 <td>09:38:11</td>     <th>  Log-Likelihood:    </th> <td>-0.98426</td>\n",
              "</tr>\n",
              "<tr>\n",
              "  <th>No. Observations:</th>      <td>    10</td>      <th>  AIC:               </th> <td>   9.969</td>\n",
              "</tr>\n",
              "<tr>\n",
              "  <th>Df Residuals:</th>          <td>     6</td>      <th>  BIC:               </th> <td>   11.18</td>\n",
              "</tr>\n",
              "<tr>\n",
              "  <th>Df Model:</th>              <td>     3</td>      <th>                     </th>     <td> </td>   \n",
              "</tr>\n",
              "<tr>\n",
              "  <th>Covariance Type:</th>      <td>nonrobust</td>    <th>                     </th>     <td> </td>   \n",
              "</tr>\n",
              "</table>\n",
              "<table class=\"simpletable\">\n",
              "<tr>\n",
              "            <td></td>              <th>coef</th>     <th>std err</th>      <th>t</th>      <th>P>|t|</th>  <th>[0.025</th>    <th>0.975]</th>  \n",
              "</tr>\n",
              "<tr>\n",
              "  <th>const</th>                <td>    6.2114</td> <td>    2.321</td> <td>    2.677</td> <td> 0.037</td> <td>    0.533</td> <td>   11.890</td>\n",
              "</tr>\n",
              "<tr>\n",
              "  <th>Miles Traveled</th>       <td>    0.0141</td> <td>    0.022</td> <td>    0.636</td> <td> 0.548</td> <td>   -0.040</td> <td>    0.068</td>\n",
              "</tr>\n",
              "<tr>\n",
              "  <th>Number of Deliveries</th> <td>    0.3832</td> <td>    0.300</td> <td>    1.277</td> <td> 0.249</td> <td>   -0.351</td> <td>    1.117</td>\n",
              "</tr>\n",
              "<tr>\n",
              "  <th>Gas Price</th>            <td>   -0.6066</td> <td>    0.527</td> <td>   -1.152</td> <td> 0.293</td> <td>   -1.895</td> <td>    0.682</td>\n",
              "</tr>\n",
              "</table>\n",
              "<table class=\"simpletable\">\n",
              "<tr>\n",
              "  <th>Omnibus:</th>       <td> 2.874</td> <th>  Durbin-Watson:     </th> <td>   2.406</td>\n",
              "</tr>\n",
              "<tr>\n",
              "  <th>Prob(Omnibus):</th> <td> 0.238</td> <th>  Jarque-Bera (JB):  </th> <td>   1.204</td>\n",
              "</tr>\n",
              "<tr>\n",
              "  <th>Skew:</th>          <td> 0.457</td> <th>  Prob(JB):          </th> <td>   0.548</td>\n",
              "</tr>\n",
              "<tr>\n",
              "  <th>Kurtosis:</th>      <td> 1.567</td> <th>  Cond. No.          </th> <td>1.79e+03</td>\n",
              "</tr>\n",
              "</table><br/><br/>Notes:<br/>[1] Standard Errors assume that the covariance matrix of the errors is correctly specified.<br/>[2] The condition number is large, 1.79e+03. This might indicate that there are<br/>strong multicollinearity or other numerical problems."
            ],
            "text/latex": "\\begin{center}\n\\begin{tabular}{lclc}\n\\toprule\n\\textbf{Dep. Variable:}       &   Travel Time    & \\textbf{  R-squared:         } &     0.895   \\\\\n\\textbf{Model:}               &       OLS        & \\textbf{  Adj. R-squared:    } &     0.842   \\\\\n\\textbf{Method:}              &  Least Squares   & \\textbf{  F-statistic:       } &     16.99   \\\\\n\\textbf{Date:}                & Fri, 06 Sep 2024 & \\textbf{  Prob (F-statistic):} &  0.00245    \\\\\n\\textbf{Time:}                &     09:38:11     & \\textbf{  Log-Likelihood:    } &  -0.98426   \\\\\n\\textbf{No. Observations:}    &          10      & \\textbf{  AIC:               } &     9.969   \\\\\n\\textbf{Df Residuals:}        &           6      & \\textbf{  BIC:               } &     11.18   \\\\\n\\textbf{Df Model:}            &           3      & \\textbf{                     } &             \\\\\n\\textbf{Covariance Type:}     &    nonrobust     & \\textbf{                     } &             \\\\\n\\bottomrule\n\\end{tabular}\n\\begin{tabular}{lcccccc}\n                              & \\textbf{coef} & \\textbf{std err} & \\textbf{t} & \\textbf{P$> |$t$|$} & \\textbf{[0.025} & \\textbf{0.975]}  \\\\\n\\midrule\n\\textbf{const}                &       6.2114  &        2.321     &     2.677  &         0.037        &        0.533    &       11.890     \\\\\n\\textbf{Miles Traveled}       &       0.0141  &        0.022     &     0.636  &         0.548        &       -0.040    &        0.068     \\\\\n\\textbf{Number of Deliveries} &       0.3832  &        0.300     &     1.277  &         0.249        &       -0.351    &        1.117     \\\\\n\\textbf{Gas Price}            &      -0.6066  &        0.527     &    -1.152  &         0.293        &       -1.895    &        0.682     \\\\\n\\bottomrule\n\\end{tabular}\n\\begin{tabular}{lclc}\n\\textbf{Omnibus:}       &  2.874 & \\textbf{  Durbin-Watson:     } &    2.406  \\\\\n\\textbf{Prob(Omnibus):} &  0.238 & \\textbf{  Jarque-Bera (JB):  } &    1.204  \\\\\n\\textbf{Skew:}          &  0.457 & \\textbf{  Prob(JB):          } &    0.548  \\\\\n\\textbf{Kurtosis:}      &  1.567 & \\textbf{  Cond. No.          } & 1.79e+03  \\\\\n\\bottomrule\n\\end{tabular}\n%\\caption{OLS Regression Results}\n\\end{center}\n\nNotes: \\newline\n [1] Standard Errors assume that the covariance matrix of the errors is correctly specified. \\newline\n [2] The condition number is large, 1.79e+03. This might indicate that there are \\newline\n strong multicollinearity or other numerical problems."
          },
          "metadata": {},
          "execution_count": 103
        }
      ]
    },
    {
      "cell_type": "code",
      "source": [
        "print(olsmod.rsquared)"
      ],
      "metadata": {
        "colab": {
          "base_uri": "https://localhost:8080/"
        },
        "id": "LmYUFedRsqKK",
        "outputId": "31102216-d432-43f2-f079-c3132a358767"
      },
      "execution_count": 104,
      "outputs": [
        {
          "output_type": "stream",
          "name": "stdout",
          "text": [
            "0.8946842692569462\n"
          ]
        }
      ]
    }
  ],
  "metadata": {
    "colab": {
      "provenance": []
    },
    "kernelspec": {
      "display_name": "Python 3",
      "name": "python3"
    },
    "language_info": {
      "name": "python"
    }
  },
  "nbformat": 4,
  "nbformat_minor": 0
}